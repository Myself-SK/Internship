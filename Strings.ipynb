{
 "cells": [
  {
   "cell_type": "raw",
   "id": "7ac1c354",
   "metadata": {},
   "source": [
    "Strings:\n",
    "    Collection of alpha numeric and special chars\n",
    "    '' \n",
    "    \"\"\n",
    "    ''' '''\n",
    "    \"\"\" \"\"\"\n",
    "    immutable"
   ]
  },
  {
   "cell_type": "code",
   "execution_count": 1,
   "id": "d48b57d2",
   "metadata": {},
   "outputs": [],
   "source": [
    "s = \"Python\""
   ]
  },
  {
   "cell_type": "code",
   "execution_count": 2,
   "id": "0d92a99a",
   "metadata": {},
   "outputs": [
    {
     "data": {
      "text/plain": [
       "str"
      ]
     },
     "execution_count": 2,
     "metadata": {},
     "output_type": "execute_result"
    }
   ],
   "source": [
    "type(s)"
   ]
  },
  {
   "cell_type": "raw",
   "id": "be76fbfd",
   "metadata": {},
   "source": [
    "    0 1 2 3 4 5\n",
    "s = P y t h o n\n",
    "   -6-5-4-3-2-1"
   ]
  },
  {
   "cell_type": "code",
   "execution_count": 6,
   "id": "0f206495",
   "metadata": {},
   "outputs": [
    {
     "data": {
      "text/plain": [
       "'n'"
      ]
     },
     "execution_count": 6,
     "metadata": {},
     "output_type": "execute_result"
    }
   ],
   "source": [
    "s[-1]"
   ]
  },
  {
   "cell_type": "raw",
   "id": "430e212a",
   "metadata": {},
   "source": [
    "Slicing:\n",
    "    it is a process to extract a substring from a string\n",
    "    s[start:end:stepsize]"
   ]
  },
  {
   "cell_type": "code",
   "execution_count": 12,
   "id": "fdaffd89",
   "metadata": {},
   "outputs": [
    {
     "data": {
      "text/plain": [
       "'nohtyP'"
      ]
     },
     "execution_count": 12,
     "metadata": {},
     "output_type": "execute_result"
    }
   ],
   "source": [
    "s[::-1]"
   ]
  },
  {
   "cell_type": "raw",
   "id": "0ac532c1",
   "metadata": {},
   "source": [
    "String Formatting:\n",
    "\\n = New Line\n",
    "\\t = Tabspace\n",
    "\\r = returns carriage\n",
    "\\b = Backspace\n",
    "\\\\ = \\\n",
    "\\\" = \""
   ]
  },
  {
   "cell_type": "code",
   "execution_count": 15,
   "id": "17f071fd",
   "metadata": {},
   "outputs": [
    {
     "name": "stdout",
     "output_type": "stream",
     "text": [
      "a\\b=c\n"
     ]
    }
   ],
   "source": [
    "print(\"a\\\\b=c\")"
   ]
  },
  {
   "cell_type": "code",
   "execution_count": 20,
   "id": "c9a9a3fb",
   "metadata": {},
   "outputs": [
    {
     "name": "stdout",
     "output_type": "stream",
     "text": [
      "0 P\n",
      "1 y\n",
      "2 t\n",
      "3 h\n",
      "4 o\n",
      "5 n\n"
     ]
    }
   ],
   "source": [
    "for i in range(len(s)):\n",
    "    print(i,s[i])"
   ]
  },
  {
   "cell_type": "code",
   "execution_count": 18,
   "id": "ade4cea2",
   "metadata": {},
   "outputs": [
    {
     "name": "stdout",
     "output_type": "stream",
     "text": [
      "P\n",
      "y\n",
      "t\n",
      "h\n",
      "o\n",
      "n\n"
     ]
    }
   ],
   "source": [
    "i = 0\n",
    "while i<len(s):\n",
    "    print(s[i])\n",
    "    i+=1"
   ]
  },
  {
   "cell_type": "code",
   "execution_count": 23,
   "id": "149e0a1e",
   "metadata": {},
   "outputs": [
    {
     "data": {
      "text/plain": [
       "'Python'"
      ]
     },
     "execution_count": 23,
     "metadata": {},
     "output_type": "execute_result"
    }
   ],
   "source": [
    "s"
   ]
  },
  {
   "cell_type": "code",
   "execution_count": 22,
   "id": "85dadf31",
   "metadata": {},
   "outputs": [
    {
     "data": {
      "text/plain": [
       "'python'"
      ]
     },
     "execution_count": 22,
     "metadata": {},
     "output_type": "execute_result"
    }
   ],
   "source": [
    "s.casefold()"
   ]
  },
  {
   "cell_type": "code",
   "execution_count": 24,
   "id": "78c2aea3",
   "metadata": {},
   "outputs": [],
   "source": [
    "email = \"SHIVA@gmail.com\"\n",
    "password = \"1234\""
   ]
  },
  {
   "cell_type": "code",
   "execution_count": 25,
   "id": "5c849678",
   "metadata": {},
   "outputs": [
    {
     "name": "stdout",
     "output_type": "stream",
     "text": [
      "shiva@gmail.com\n",
      "1234\n"
     ]
    }
   ],
   "source": [
    "enteredEmail = input()\n",
    "enteredPass = input()"
   ]
  },
  {
   "cell_type": "code",
   "execution_count": 31,
   "id": "fc5a201e",
   "metadata": {},
   "outputs": [
    {
     "data": {
      "text/plain": [
       "3"
      ]
     },
     "execution_count": 31,
     "metadata": {},
     "output_type": "execute_result"
    }
   ],
   "source": [
    "s = \"Python is a super scripting language\"\n",
    "s.count('s')"
   ]
  },
  {
   "cell_type": "code",
   "execution_count": 33,
   "id": "ae3a580a",
   "metadata": {},
   "outputs": [
    {
     "data": {
      "text/plain": [
       "False"
      ]
     },
     "execution_count": 33,
     "metadata": {},
     "output_type": "execute_result"
    }
   ],
   "source": [
    "s.endswith('ae')"
   ]
  },
  {
   "cell_type": "code",
   "execution_count": 35,
   "id": "0b071927",
   "metadata": {},
   "outputs": [
    {
     "data": {
      "text/plain": [
       "False"
      ]
     },
     "execution_count": 35,
     "metadata": {},
     "output_type": "execute_result"
    }
   ],
   "source": [
    "s.startswith('s')"
   ]
  },
  {
   "cell_type": "code",
   "execution_count": 40,
   "id": "3f1819a5",
   "metadata": {},
   "outputs": [
    {
     "data": {
      "text/plain": [
       "-1"
      ]
     },
     "execution_count": 40,
     "metadata": {},
     "output_type": "execute_result"
    }
   ],
   "source": [
    "s.find('s',20)"
   ]
  },
  {
   "cell_type": "code",
   "execution_count": 43,
   "id": "3a1c52ba",
   "metadata": {},
   "outputs": [
    {
     "data": {
      "text/plain": [
       "18"
      ]
     },
     "execution_count": 43,
     "metadata": {},
     "output_type": "execute_result"
    }
   ],
   "source": [
    "s.index('s',13)"
   ]
  },
  {
   "cell_type": "code",
   "execution_count": 47,
   "id": "054f091e",
   "metadata": {},
   "outputs": [],
   "source": [
    "b = ','.join(s)"
   ]
  },
  {
   "cell_type": "code",
   "execution_count": 48,
   "id": "4829e779",
   "metadata": {},
   "outputs": [
    {
     "data": {
      "text/plain": [
       "'P,y,t,h,o,n, ,i,s, ,a, ,s,u,p,e,r, ,s,c,r,i,p,t,i,n,g, ,l,a,n,g,u,a,g,e'"
      ]
     },
     "execution_count": 48,
     "metadata": {},
     "output_type": "execute_result"
    }
   ],
   "source": [
    "b"
   ]
  },
  {
   "cell_type": "code",
   "execution_count": 49,
   "id": "de7c1ee6",
   "metadata": {},
   "outputs": [
    {
     "data": {
      "text/plain": [
       "'Python is a super scripting language'"
      ]
     },
     "execution_count": 49,
     "metadata": {},
     "output_type": "execute_result"
    }
   ],
   "source": [
    "s"
   ]
  },
  {
   "cell_type": "code",
   "execution_count": 50,
   "id": "8d136b18",
   "metadata": {},
   "outputs": [
    {
     "data": {
      "text/plain": [
       "'Python Is A Super Scripting Language'"
      ]
     },
     "execution_count": 50,
     "metadata": {},
     "output_type": "execute_result"
    }
   ],
   "source": [
    "s.title()"
   ]
  },
  {
   "cell_type": "code",
   "execution_count": null,
   "id": "a4ff2f33",
   "metadata": {},
   "outputs": [],
   "source": [
    "s.splitlines"
   ]
  }
 ],
 "metadata": {
  "kernelspec": {
   "display_name": "Python 3 (ipykernel)",
   "language": "python",
   "name": "python3"
  },
  "language_info": {
   "codemirror_mode": {
    "name": "ipython",
    "version": 3
   },
   "file_extension": ".py",
   "mimetype": "text/x-python",
   "name": "python",
   "nbconvert_exporter": "python",
   "pygments_lexer": "ipython3",
   "version": "3.11.3"
  }
 },
 "nbformat": 4,
 "nbformat_minor": 5
}
