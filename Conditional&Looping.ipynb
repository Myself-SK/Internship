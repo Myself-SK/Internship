{
 "cells": [
  {
   "cell_type": "raw",
   "id": "d6d97df9-4d59-450b-bf35-87d832fea6f5",
   "metadata": {},
   "source": [
    "Conditional Statements\n",
    "    if\n",
    "    else\n",
    "    if elif ladder\n",
    "    nested if"
   ]
  },
  {
   "cell_type": "raw",
   "id": "20f93a26-8d7d-4578-99fa-6c049288cf7c",
   "metadata": {},
   "source": [
    "if cond:\n",
    "    statements\n",
    "    statements\n",
    "    statements\n",
    "    statements\n",
    "    statements\n",
    "    statements\n",
    "print(\"\")"
   ]
  },
  {
   "cell_type": "raw",
   "id": "f23cd487-5b0f-4447-9717-ba4acc265f90",
   "metadata": {},
   "source": [
    "Indentation in Other Languages\n",
    "if(cond){\n",
    "    statements;\n",
    "    statements;\n",
    "    statements;\n",
    "}"
   ]
  },
  {
   "cell_type": "code",
   "execution_count": 11,
   "id": "0588072f-70f8-48e1-b18f-b98e265d90dd",
   "metadata": {
    "tags": []
   },
   "outputs": [],
   "source": [
    "a=100\n",
    "b=100\n"
   ]
  },
  {
   "cell_type": "code",
   "execution_count": 12,
   "id": "249e9848-77f4-46da-96b7-383360a83df3",
   "metadata": {
    "tags": []
   },
   "outputs": [],
   "source": [
    "if a>b:\n",
    "    print(\"A is Greater\")\n",
    "if b>a:print(\"B is Greater\")"
   ]
  },
  {
   "cell_type": "code",
   "execution_count": 13,
   "id": "57041059-5d67-48ad-916c-1559e8138cbf",
   "metadata": {
    "tags": []
   },
   "outputs": [
    {
     "name": "stdout",
     "output_type": "stream",
     "text": [
      "B is Greater\n"
     ]
    }
   ],
   "source": [
    "if a>b:\n",
    "    print(\"A is Greater\")\n",
    "else:\n",
    "    print(\"B is Greater\")"
   ]
  },
  {
   "cell_type": "code",
   "execution_count": 17,
   "id": "bba389a2-7607-4edb-875b-771d27cc135d",
   "metadata": {
    "tags": []
   },
   "outputs": [
    {
     "name": "stdout",
     "output_type": "stream",
     "text": [
      "A != 10\n"
     ]
    }
   ],
   "source": [
    "a=10\n",
    "if a>10:\n",
    "    print(\"A>=10\")\n",
    "elif a<10:\n",
    "    print(\"A<=10\")\n",
    "elif a>11:\n",
    "    print(\"A==10\")\n",
    "else:\n",
    "    print(\"A != 10\")"
   ]
  },
  {
   "cell_type": "code",
   "execution_count": 24,
   "id": "f1d5d8e6-b50e-49a0-895b-231d80c372dc",
   "metadata": {
    "tags": []
   },
   "outputs": [
    {
     "name": "stdout",
     "output_type": "stream",
     "text": [
      "C\n"
     ]
    }
   ],
   "source": [
    "a=10\n",
    "b=20\n",
    "c=30\n",
    "if a>b and a>c:print(\"A\")\n",
    "elif b>c:print(\"B\")\n",
    "else:print(\"C\")"
   ]
  },
  {
   "cell_type": "raw",
   "id": "e84770d1-564e-423c-82c3-4517942ea154",
   "metadata": {},
   "source": [
    "if cond:\n",
    "    if cond:\n",
    "        statement\n",
    "    else:\n",
    "        statement\n",
    "else:\n",
    "    if cond:\n",
    "        statement\n",
    "    else:\n",
    "        statement"
   ]
  },
  {
   "cell_type": "code",
   "execution_count": 20,
   "id": "fae8aacd-de32-4d2d-967b-656d3ca2c38b",
   "metadata": {
    "tags": []
   },
   "outputs": [
    {
     "name": "stdout",
     "output_type": "stream",
     "text": [
      "A\n"
     ]
    }
   ],
   "source": [
    "a=1000\n",
    "b=200\n",
    "c=30\n",
    "if a>b:\n",
    "    if a>c:print(\"A\")\n",
    "    else:print(\"B\")\n",
    "else:\n",
    "    if b>c:print(\"B\")\n",
    "    else:print(\"C\")"
   ]
  },
  {
   "cell_type": "raw",
   "id": "9e6ae539-4fad-4c8f-9622-dbd957ce4ada",
   "metadata": {},
   "source": [
    "range():\n",
    "    par1: starting = 0 => inclusive\n",
    "    par2: ending = required par User need to pass => exclusive\n",
    "    par3: stepSize = 1"
   ]
  },
  {
   "cell_type": "code",
   "execution_count": 27,
   "id": "86d97f2a-6193-4854-b406-1e59fc93f282",
   "metadata": {
    "tags": []
   },
   "outputs": [],
   "source": [
    "n = range(10)"
   ]
  },
  {
   "cell_type": "code",
   "execution_count": 28,
   "id": "c9c1cf4f-2fca-4424-98f6-7b138cf10349",
   "metadata": {
    "tags": []
   },
   "outputs": [],
   "source": [
    "m = range(1,10,2)"
   ]
  },
  {
   "cell_type": "code",
   "execution_count": 38,
   "id": "e0326eae-6680-45aa-bbd0-9955c3ec3251",
   "metadata": {
    "tags": []
   },
   "outputs": [
    {
     "name": "stdout",
     "output_type": "stream",
     "text": [
      "10\n",
      "9\n",
      "8\n",
      "7\n",
      "6\n",
      "5\n",
      "4\n",
      "3\n",
      "2\n",
      "1\n"
     ]
    }
   ],
   "source": [
    "            # 1 3 5 7 9\n",
    "for i in range(10,0,-1):\n",
    "    print(i)"
   ]
  },
  {
   "cell_type": "raw",
   "id": "e105404d-2762-4789-a663-a31cbf4e90ab",
   "metadata": {},
   "source": [
    "while(cond):\n",
    "    statements"
   ]
  },
  {
   "cell_type": "code",
   "execution_count": 36,
   "id": "ea4504cd-ab74-483a-9c80-d048192ec103",
   "metadata": {
    "tags": []
   },
   "outputs": [
    {
     "name": "stdout",
     "output_type": "stream",
     "text": [
      "0\n",
      "1\n",
      "2\n",
      "3\n",
      "4\n",
      "5\n",
      "6\n",
      "7\n",
      "8\n",
      "9\n",
      "10\n"
     ]
    }
   ],
   "source": [
    "i=0\n",
    "while i<=10:\n",
    "    print(i)\n",
    "    i+=1"
   ]
  },
  {
   "cell_type": "raw",
   "id": "1830eb6b-5ab3-4db5-aecc-be5c09993a3d",
   "metadata": {},
   "source": [
    "Control Statements:\n",
    "    break\n",
    "    continue\n",
    "    pass"
   ]
  },
  {
   "cell_type": "code",
   "execution_count": 42,
   "id": "c2d77a7b-45bd-48e2-8178-469b5642a050",
   "metadata": {
    "tags": []
   },
   "outputs": [
    {
     "name": "stdout",
     "output_type": "stream",
     "text": [
      "1\n",
      "2\n",
      "3\n",
      "4\n",
      "5\n",
      "6\n",
      "7\n",
      "8\n",
      "9\n",
      "10\n",
      "11\n"
     ]
    }
   ],
   "source": [
    "i=0\n",
    "while i<=10:\n",
    "    i+=1\n",
    "    if i==5:\n",
    "        pass\n",
    "    print(i)\n"
   ]
  },
  {
   "cell_type": "code",
   "execution_count": null,
   "id": "bef5dfe2-2a49-49fb-9674-e4b814858fcc",
   "metadata": {},
   "outputs": [],
   "source": []
  }
 ],
 "metadata": {
  "kernelspec": {
   "display_name": "Python 3 (ipykernel)",
   "language": "python",
   "name": "python3"
  },
  "language_info": {
   "codemirror_mode": {
    "name": "ipython",
    "version": 3
   },
   "file_extension": ".py",
   "mimetype": "text/x-python",
   "name": "python",
   "nbconvert_exporter": "python",
   "pygments_lexer": "ipython3",
   "version": "3.11.5"
  }
 },
 "nbformat": 4,
 "nbformat_minor": 5
}
