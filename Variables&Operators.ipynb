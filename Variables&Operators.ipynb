{
 "cells": [
  {
   "cell_type": "raw",
   "id": "de5960ee",
   "metadata": {},
   "source": [
    "Variables:\n",
    "    Place where we store some data"
   ]
  },
  {
   "cell_type": "code",
   "execution_count": 12,
   "id": "3336d6fd",
   "metadata": {},
   "outputs": [],
   "source": [
    "a = 10"
   ]
  },
  {
   "cell_type": "code",
   "execution_count": 13,
   "id": "d5c05605",
   "metadata": {},
   "outputs": [
    {
     "data": {
      "text/plain": [
       "int"
      ]
     },
     "execution_count": 13,
     "metadata": {},
     "output_type": "execute_result"
    }
   ],
   "source": [
    "type(a)"
   ]
  },
  {
   "cell_type": "code",
   "execution_count": 15,
   "id": "75e8fa2e",
   "metadata": {},
   "outputs": [
    {
     "data": {
      "text/plain": [
       "True"
      ]
     },
     "execution_count": 15,
     "metadata": {},
     "output_type": "execute_result"
    }
   ],
   "source": [
    "isinstance(a,int)"
   ]
  },
  {
   "cell_type": "raw",
   "id": "b7ca35b3",
   "metadata": {},
   "source": [
    "Datatypes:\n",
    "    Numbers:\n",
    "        int\n",
    "        float\n",
    "        complex\n",
    "    String:\n",
    "        ''\n",
    "        \"\"\n",
    "        ''' '''\n",
    "    bool\n",
    "    list\n",
    "    tuple\n",
    "    dict\n",
    "    set\n",
    "    "
   ]
  },
  {
   "cell_type": "raw",
   "id": "18ec9ac9",
   "metadata": {},
   "source": [
    "Input and Output Statements\n",
    "print()\n",
    "input()"
   ]
  },
  {
   "cell_type": "code",
   "execution_count": 23,
   "id": "ebafd91f",
   "metadata": {},
   "outputs": [
    {
     "name": "stdout",
     "output_type": "stream",
     "text": [
      "Enter your Age24\n"
     ]
    }
   ],
   "source": [
    "a = float(input(\"Enter your Age\"))"
   ]
  },
  {
   "cell_type": "code",
   "execution_count": 25,
   "id": "ac97b578",
   "metadata": {},
   "outputs": [
    {
     "name": "stdout",
     "output_type": "stream",
     "text": [
      "24.0\n"
     ]
    }
   ],
   "source": [
    "print(a)"
   ]
  },
  {
   "cell_type": "code",
   "execution_count": 27,
   "id": "f14f792e",
   "metadata": {},
   "outputs": [],
   "source": [
    "a=10\n",
    "b=20\n",
    "c=a+b"
   ]
  },
  {
   "cell_type": "raw",
   "id": "8115744f",
   "metadata": {},
   "source": [
    "The sum of 10 and 20 = 30"
   ]
  },
  {
   "cell_type": "code",
   "execution_count": 31,
   "id": "6b2c0297",
   "metadata": {},
   "outputs": [
    {
     "name": "stdout",
     "output_type": "stream",
     "text": [
      "The sum of 10 and 20 = 30\n"
     ]
    }
   ],
   "source": [
    "# print('The sum of',a,'and',b,'=',c)\n",
    "# print('The sum of {} and {} = {}'.format(a,b,c))\n",
    "# print(f'The sum of {a} and {b} = {c}')"
   ]
  },
  {
   "cell_type": "raw",
   "id": "2942cf22",
   "metadata": {},
   "source": [
    "Operators:\n",
    "    Arithmetic Operators:\n",
    "        + - * / % ** //\n",
    "    Relational Operators:\n",
    "        > < >= <= == !=\n",
    "    Logic Operators:\n",
    "        and or not\n",
    "    Bitwise Operators:\n",
    "        & | ^ << >>\n",
    "    Assignment Operators:\n",
    "        = += -= *= /= %= //= **= &= |= ^= <<= >>=\n",
    "    Special Type:\n",
    "        Membership:\n",
    "            in\n",
    "            not in\n",
    "        Identity:\n",
    "            is\n",
    "            is not"
   ]
  },
  {
   "cell_type": "code",
   "execution_count": 36,
   "id": "a80172b7",
   "metadata": {},
   "outputs": [
    {
     "data": {
      "text/plain": [
       "6"
      ]
     },
     "execution_count": 36,
     "metadata": {},
     "output_type": "execute_result"
    }
   ],
   "source": [
    "13//2"
   ]
  },
  {
   "cell_type": "raw",
   "id": "5fbac024",
   "metadata": {},
   "source": [
    "a and b  op\n",
    "0     0  0\n",
    "0     1  0\n",
    "1     0  0\n",
    "1     1  1"
   ]
  },
  {
   "cell_type": "raw",
   "id": "f14e795f",
   "metadata": {},
   "source": [
    "a or b op\n",
    "0    0  0\n",
    "0    1  1\n",
    "1    0  1\n",
    "1    1  1"
   ]
  },
  {
   "cell_type": "code",
   "execution_count": null,
   "id": "cf0a3d41",
   "metadata": {},
   "outputs": [],
   "source": [
    "not\n",
    "a  op\n",
    "0   1\n",
    "1   0"
   ]
  },
  {
   "cell_type": "code",
   "execution_count": 38,
   "id": "a14f22a1",
   "metadata": {},
   "outputs": [
    {
     "data": {
      "text/plain": [
       "2"
      ]
     },
     "execution_count": 38,
     "metadata": {},
     "output_type": "execute_result"
    }
   ],
   "source": [
    "10 & 2"
   ]
  },
  {
   "cell_type": "code",
   "execution_count": 39,
   "id": "b0ec466b",
   "metadata": {},
   "outputs": [
    {
     "data": {
      "text/plain": [
       "10"
      ]
     },
     "execution_count": 39,
     "metadata": {},
     "output_type": "execute_result"
    }
   ],
   "source": [
    "10 | 2\n"
   ]
  },
  {
   "cell_type": "code",
   "execution_count": 46,
   "id": "64600ac5",
   "metadata": {},
   "outputs": [
    {
     "data": {
      "text/plain": [
       "40"
      ]
     },
     "execution_count": 46,
     "metadata": {},
     "output_type": "execute_result"
    }
   ],
   "source": [
    "10 << 2"
   ]
  },
  {
   "cell_type": "code",
   "execution_count": 47,
   "id": "a447f77d",
   "metadata": {},
   "outputs": [
    {
     "data": {
      "text/plain": [
       "2"
      ]
     },
     "execution_count": 47,
     "metadata": {},
     "output_type": "execute_result"
    }
   ],
   "source": [
    "10 >> 2"
   ]
  },
  {
   "cell_type": "code",
   "execution_count": 48,
   "id": "95be5407",
   "metadata": {},
   "outputs": [],
   "source": [
    "a = a+10"
   ]
  },
  {
   "cell_type": "code",
   "execution_count": null,
   "id": "6fb2a87b",
   "metadata": {},
   "outputs": [],
   "source": [
    "a+=10"
   ]
  },
  {
   "cell_type": "code",
   "execution_count": 52,
   "id": "0def24c3",
   "metadata": {},
   "outputs": [
    {
     "data": {
      "text/plain": [
       "False"
      ]
     },
     "execution_count": 52,
     "metadata": {},
     "output_type": "execute_result"
    }
   ],
   "source": [
    "10 not in [1,2,3,4,5,6,7,8,9,10]"
   ]
  },
  {
   "cell_type": "code",
   "execution_count": 55,
   "id": "e047b8d0",
   "metadata": {},
   "outputs": [
    {
     "name": "stderr",
     "output_type": "stream",
     "text": [
      "<>:1: SyntaxWarning: \"is not\" with a literal. Did you mean \"!=\"?\n",
      "<>:1: SyntaxWarning: \"is not\" with a literal. Did you mean \"!=\"?\n",
      "C:\\Users\\mesol\\AppData\\Local\\Temp\\ipykernel_24492\\4160012448.py:1: SyntaxWarning: \"is not\" with a literal. Did you mean \"!=\"?\n",
      "  'Shiva' is not 'Shiva'\n"
     ]
    },
    {
     "data": {
      "text/plain": [
       "False"
      ]
     },
     "execution_count": 55,
     "metadata": {},
     "output_type": "execute_result"
    }
   ],
   "source": [
    "'Shiva' is not 'Shiva'"
   ]
  },
  {
   "cell_type": "raw",
   "id": "c8865e01",
   "metadata": {},
   "source": [
    "Conditional Statements:\n",
    "    if\n",
    "    else\n",
    "    if elif ladder\n",
    "    nested if"
   ]
  },
  {
   "cell_type": "code",
   "execution_count": null,
   "id": "15346a04",
   "metadata": {},
   "outputs": [],
   "source": [
    "if cond:\n",
    "    statements"
   ]
  }
 ],
 "metadata": {
  "kernelspec": {
   "display_name": "Python 3 (ipykernel)",
   "language": "python",
   "name": "python3"
  },
  "language_info": {
   "codemirror_mode": {
    "name": "ipython",
    "version": 3
   },
   "file_extension": ".py",
   "mimetype": "text/x-python",
   "name": "python",
   "nbconvert_exporter": "python",
   "pygments_lexer": "ipython3",
   "version": "3.11.3"
  }
 },
 "nbformat": 4,
 "nbformat_minor": 5
}
